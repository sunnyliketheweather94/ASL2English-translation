{
 "cells": [
  {
   "cell_type": "code",
   "execution_count": 1,
   "metadata": {},
   "outputs": [],
   "source": [
    "import numpy as np\n",
    "import os"
   ]
  },
  {
   "cell_type": "code",
   "execution_count": 95,
   "metadata": {},
   "outputs": [],
   "source": [
    "def concatenate_matrices(type_, order):\n",
    "    data_dir = os.path.join(os.getcwd(), type_)\n",
    "    \n",
    "    files_paths = [os.path.join(data_dir, x) for x in order]\n",
    "    matrices = np.load(files_paths[0])\n",
    "    print(files_paths[0])\n",
    "    for p in files_paths[1:]:\n",
    "        matrix = np.load(p)\n",
    "        print(p)\n",
    "        matrices = np.concatenate((matrices, matrix))\n",
    "    \n",
    "    name = \"x\" + type_ + \".npy\"\n",
    "    np.save(name, matrices)\n",
    "    print(\"Done saving the matrix. Its shape is {}.\".format(matrices.shape))"
   ]
  },
  {
   "cell_type": "code",
   "execution_count": 96,
   "metadata": {},
   "outputs": [],
   "source": [
    "test_order = [157, 119, 100, 172, 168, \n",
    "         116, 69, 5, 149, 60, 73, \n",
    "         118, 175, 194, 165, 197,\n",
    "         185, 158, 31, 177, 188, 112, \n",
    "         17, 178, 40]\n",
    "\n",
    "train_order = [150, 129, 140, 43, 162,\n",
    "               90, 25, 70, 21, 74, 93,\n",
    "               23, 79, 148, 170, 19,\n",
    "               186, 106, 111, 2, 196, 95,\n",
    "               146, 84, 137, 88, 130, 68, \n",
    "               191, 58, 48, 115, 156, 144,\n",
    "               14, 36, 72, 78, 97, 110, 96,\n",
    "               193, 99, 53, 147, 160, 15, 47,\n",
    "               182, 163, 127, 7, 77, 123, 59, \n",
    "               132, 46, 51, 138, 107, 9, 94,\n",
    "               26, 108, 12, 141, 180, 81, 154,\n",
    "               54, 44, 125, 18, 38, 92, 61, 173,\n",
    "               27, 52, 181, 39, 29, 117, 45, 159,\n",
    "               71, 75, 187, 49, 56, 136, 166, 189, \n",
    "               183, 1, 28, 6, 32, 98, 113, 91, 174, 4,\n",
    "               171, 82, 135, 122, 86, 143, 109, 3, 30, \n",
    "               85, 199, 13, 190, 50, 87, 105, 37, 8, \n",
    "               167, 133, 55, 121, 22, 102, 104, 16, 139,\n",
    "               161, 114, 66, 34, 192, 145, 198, 131, 10, 103, \n",
    "               64, 11, 35, 134, 184, 164, 195, 83, 124, 57,\n",
    "               101, 42, 128, 169, 176, 142, 67, 126, 80, 201,\n",
    "               89, 155, 152, 24, 20, 41, 63, 200, 151, 33,\n",
    "               62, 65, 120, 153]\n",
    "\n",
    "test_order = [\"matrix_\" + str(p) + \".npy\" for p in test_order]\n",
    "train_order = [\"matrix_\" + str(p) + \".npy\" for p in train_order]"
   ]
  },
  {
   "cell_type": "code",
   "execution_count": 97,
   "metadata": {},
   "outputs": [
    {
     "name": "stdout",
     "output_type": "stream",
     "text": [
      "/Users/sunnyshah/Desktop/Spring 2020/CS 230/Project/cs230_project/Baseline Model/test/matrix_157.npy\n",
      "/Users/sunnyshah/Desktop/Spring 2020/CS 230/Project/cs230_project/Baseline Model/test/matrix_119.npy\n",
      "/Users/sunnyshah/Desktop/Spring 2020/CS 230/Project/cs230_project/Baseline Model/test/matrix_100.npy\n",
      "/Users/sunnyshah/Desktop/Spring 2020/CS 230/Project/cs230_project/Baseline Model/test/matrix_172.npy\n",
      "/Users/sunnyshah/Desktop/Spring 2020/CS 230/Project/cs230_project/Baseline Model/test/matrix_168.npy\n",
      "/Users/sunnyshah/Desktop/Spring 2020/CS 230/Project/cs230_project/Baseline Model/test/matrix_116.npy\n",
      "/Users/sunnyshah/Desktop/Spring 2020/CS 230/Project/cs230_project/Baseline Model/test/matrix_69.npy\n",
      "/Users/sunnyshah/Desktop/Spring 2020/CS 230/Project/cs230_project/Baseline Model/test/matrix_5.npy\n",
      "/Users/sunnyshah/Desktop/Spring 2020/CS 230/Project/cs230_project/Baseline Model/test/matrix_149.npy\n",
      "/Users/sunnyshah/Desktop/Spring 2020/CS 230/Project/cs230_project/Baseline Model/test/matrix_60.npy\n",
      "/Users/sunnyshah/Desktop/Spring 2020/CS 230/Project/cs230_project/Baseline Model/test/matrix_73.npy\n",
      "/Users/sunnyshah/Desktop/Spring 2020/CS 230/Project/cs230_project/Baseline Model/test/matrix_118.npy\n",
      "/Users/sunnyshah/Desktop/Spring 2020/CS 230/Project/cs230_project/Baseline Model/test/matrix_175.npy\n",
      "/Users/sunnyshah/Desktop/Spring 2020/CS 230/Project/cs230_project/Baseline Model/test/matrix_194.npy\n",
      "/Users/sunnyshah/Desktop/Spring 2020/CS 230/Project/cs230_project/Baseline Model/test/matrix_165.npy\n",
      "/Users/sunnyshah/Desktop/Spring 2020/CS 230/Project/cs230_project/Baseline Model/test/matrix_197.npy\n",
      "/Users/sunnyshah/Desktop/Spring 2020/CS 230/Project/cs230_project/Baseline Model/test/matrix_185.npy\n",
      "/Users/sunnyshah/Desktop/Spring 2020/CS 230/Project/cs230_project/Baseline Model/test/matrix_158.npy\n",
      "/Users/sunnyshah/Desktop/Spring 2020/CS 230/Project/cs230_project/Baseline Model/test/matrix_31.npy\n",
      "/Users/sunnyshah/Desktop/Spring 2020/CS 230/Project/cs230_project/Baseline Model/test/matrix_177.npy\n",
      "/Users/sunnyshah/Desktop/Spring 2020/CS 230/Project/cs230_project/Baseline Model/test/matrix_188.npy\n",
      "/Users/sunnyshah/Desktop/Spring 2020/CS 230/Project/cs230_project/Baseline Model/test/matrix_112.npy\n",
      "/Users/sunnyshah/Desktop/Spring 2020/CS 230/Project/cs230_project/Baseline Model/test/matrix_17.npy\n",
      "/Users/sunnyshah/Desktop/Spring 2020/CS 230/Project/cs230_project/Baseline Model/test/matrix_178.npy\n",
      "/Users/sunnyshah/Desktop/Spring 2020/CS 230/Project/cs230_project/Baseline Model/test/matrix_40.npy\n",
      "Done saving the matrix. Its shape is (2061, 299, 299, 3).\n"
     ]
    }
   ],
   "source": [
    "concatenate_matrices('test', test_order)"
   ]
  },
  {
   "cell_type": "code",
   "execution_count": null,
   "metadata": {},
   "outputs": [
    {
     "name": "stdout",
     "output_type": "stream",
     "text": [
      "/Users/sunnyshah/Desktop/Spring 2020/CS 230/Project/cs230_project/Baseline Model/train/matrix_150.npy\n",
      "/Users/sunnyshah/Desktop/Spring 2020/CS 230/Project/cs230_project/Baseline Model/train/matrix_129.npy\n",
      "/Users/sunnyshah/Desktop/Spring 2020/CS 230/Project/cs230_project/Baseline Model/train/matrix_140.npy\n",
      "/Users/sunnyshah/Desktop/Spring 2020/CS 230/Project/cs230_project/Baseline Model/train/matrix_43.npy\n",
      "/Users/sunnyshah/Desktop/Spring 2020/CS 230/Project/cs230_project/Baseline Model/train/matrix_162.npy\n",
      "/Users/sunnyshah/Desktop/Spring 2020/CS 230/Project/cs230_project/Baseline Model/train/matrix_90.npy\n",
      "/Users/sunnyshah/Desktop/Spring 2020/CS 230/Project/cs230_project/Baseline Model/train/matrix_25.npy\n",
      "/Users/sunnyshah/Desktop/Spring 2020/CS 230/Project/cs230_project/Baseline Model/train/matrix_70.npy\n",
      "/Users/sunnyshah/Desktop/Spring 2020/CS 230/Project/cs230_project/Baseline Model/train/matrix_21.npy\n",
      "/Users/sunnyshah/Desktop/Spring 2020/CS 230/Project/cs230_project/Baseline Model/train/matrix_74.npy\n",
      "/Users/sunnyshah/Desktop/Spring 2020/CS 230/Project/cs230_project/Baseline Model/train/matrix_93.npy\n",
      "/Users/sunnyshah/Desktop/Spring 2020/CS 230/Project/cs230_project/Baseline Model/train/matrix_23.npy\n",
      "/Users/sunnyshah/Desktop/Spring 2020/CS 230/Project/cs230_project/Baseline Model/train/matrix_79.npy\n",
      "/Users/sunnyshah/Desktop/Spring 2020/CS 230/Project/cs230_project/Baseline Model/train/matrix_148.npy\n",
      "/Users/sunnyshah/Desktop/Spring 2020/CS 230/Project/cs230_project/Baseline Model/train/matrix_170.npy\n",
      "/Users/sunnyshah/Desktop/Spring 2020/CS 230/Project/cs230_project/Baseline Model/train/matrix_19.npy\n",
      "/Users/sunnyshah/Desktop/Spring 2020/CS 230/Project/cs230_project/Baseline Model/train/matrix_186.npy\n",
      "/Users/sunnyshah/Desktop/Spring 2020/CS 230/Project/cs230_project/Baseline Model/train/matrix_106.npy\n",
      "/Users/sunnyshah/Desktop/Spring 2020/CS 230/Project/cs230_project/Baseline Model/train/matrix_111.npy\n",
      "/Users/sunnyshah/Desktop/Spring 2020/CS 230/Project/cs230_project/Baseline Model/train/matrix_2.npy\n",
      "/Users/sunnyshah/Desktop/Spring 2020/CS 230/Project/cs230_project/Baseline Model/train/matrix_196.npy\n",
      "/Users/sunnyshah/Desktop/Spring 2020/CS 230/Project/cs230_project/Baseline Model/train/matrix_95.npy\n",
      "/Users/sunnyshah/Desktop/Spring 2020/CS 230/Project/cs230_project/Baseline Model/train/matrix_146.npy\n",
      "/Users/sunnyshah/Desktop/Spring 2020/CS 230/Project/cs230_project/Baseline Model/train/matrix_84.npy\n",
      "/Users/sunnyshah/Desktop/Spring 2020/CS 230/Project/cs230_project/Baseline Model/train/matrix_137.npy\n",
      "/Users/sunnyshah/Desktop/Spring 2020/CS 230/Project/cs230_project/Baseline Model/train/matrix_88.npy\n",
      "/Users/sunnyshah/Desktop/Spring 2020/CS 230/Project/cs230_project/Baseline Model/train/matrix_130.npy\n",
      "/Users/sunnyshah/Desktop/Spring 2020/CS 230/Project/cs230_project/Baseline Model/train/matrix_68.npy\n",
      "/Users/sunnyshah/Desktop/Spring 2020/CS 230/Project/cs230_project/Baseline Model/train/matrix_191.npy\n",
      "/Users/sunnyshah/Desktop/Spring 2020/CS 230/Project/cs230_project/Baseline Model/train/matrix_58.npy\n",
      "/Users/sunnyshah/Desktop/Spring 2020/CS 230/Project/cs230_project/Baseline Model/train/matrix_48.npy\n",
      "/Users/sunnyshah/Desktop/Spring 2020/CS 230/Project/cs230_project/Baseline Model/train/matrix_115.npy\n",
      "/Users/sunnyshah/Desktop/Spring 2020/CS 230/Project/cs230_project/Baseline Model/train/matrix_156.npy\n",
      "/Users/sunnyshah/Desktop/Spring 2020/CS 230/Project/cs230_project/Baseline Model/train/matrix_144.npy\n",
      "/Users/sunnyshah/Desktop/Spring 2020/CS 230/Project/cs230_project/Baseline Model/train/matrix_14.npy\n",
      "/Users/sunnyshah/Desktop/Spring 2020/CS 230/Project/cs230_project/Baseline Model/train/matrix_36.npy\n",
      "/Users/sunnyshah/Desktop/Spring 2020/CS 230/Project/cs230_project/Baseline Model/train/matrix_72.npy\n",
      "/Users/sunnyshah/Desktop/Spring 2020/CS 230/Project/cs230_project/Baseline Model/train/matrix_78.npy\n",
      "/Users/sunnyshah/Desktop/Spring 2020/CS 230/Project/cs230_project/Baseline Model/train/matrix_97.npy\n",
      "/Users/sunnyshah/Desktop/Spring 2020/CS 230/Project/cs230_project/Baseline Model/train/matrix_110.npy\n",
      "/Users/sunnyshah/Desktop/Spring 2020/CS 230/Project/cs230_project/Baseline Model/train/matrix_96.npy\n",
      "/Users/sunnyshah/Desktop/Spring 2020/CS 230/Project/cs230_project/Baseline Model/train/matrix_193.npy\n",
      "/Users/sunnyshah/Desktop/Spring 2020/CS 230/Project/cs230_project/Baseline Model/train/matrix_99.npy\n",
      "/Users/sunnyshah/Desktop/Spring 2020/CS 230/Project/cs230_project/Baseline Model/train/matrix_53.npy\n",
      "/Users/sunnyshah/Desktop/Spring 2020/CS 230/Project/cs230_project/Baseline Model/train/matrix_147.npy\n",
      "/Users/sunnyshah/Desktop/Spring 2020/CS 230/Project/cs230_project/Baseline Model/train/matrix_160.npy\n",
      "/Users/sunnyshah/Desktop/Spring 2020/CS 230/Project/cs230_project/Baseline Model/train/matrix_15.npy\n",
      "/Users/sunnyshah/Desktop/Spring 2020/CS 230/Project/cs230_project/Baseline Model/train/matrix_47.npy\n",
      "/Users/sunnyshah/Desktop/Spring 2020/CS 230/Project/cs230_project/Baseline Model/train/matrix_182.npy\n",
      "/Users/sunnyshah/Desktop/Spring 2020/CS 230/Project/cs230_project/Baseline Model/train/matrix_163.npy\n",
      "/Users/sunnyshah/Desktop/Spring 2020/CS 230/Project/cs230_project/Baseline Model/train/matrix_127.npy\n"
     ]
    }
   ],
   "source": [
    "concatenate_matrices('train', train_order)"
   ]
  },
  {
   "cell_type": "code",
   "execution_count": null,
   "metadata": {},
   "outputs": [],
   "source": []
  }
 ],
 "metadata": {
  "kernelspec": {
   "display_name": "Python 3",
   "language": "python",
   "name": "python3"
  },
  "language_info": {
   "codemirror_mode": {
    "name": "ipython",
    "version": 3
   },
   "file_extension": ".py",
   "mimetype": "text/x-python",
   "name": "python",
   "nbconvert_exporter": "python",
   "pygments_lexer": "ipython3",
   "version": "3.7.6"
  }
 },
 "nbformat": 4,
 "nbformat_minor": 4
}
