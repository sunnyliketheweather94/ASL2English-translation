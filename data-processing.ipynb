{
 "cells": [
  {
   "cell_type": "code",
   "execution_count": 2,
   "metadata": {},
   "outputs": [],
   "source": [
    "import numpy as np\n",
    "import pandas as pd\n",
    "import matplotlib.pyplot as plt\n",
    "%matplotlib inline\n",
    "import cv2\n",
    "\n",
    "import os\n",
    "import sys\n",
    "import glob"
   ]
  },
  {
   "cell_type": "code",
   "execution_count": 3,
   "metadata": {},
   "outputs": [],
   "source": [
    "current_dir = os.getcwd()\n",
    "videos_dir = os.path.join(current_dir, 'rwth-boston-104/videoBank/camera0/')\n",
    "labels_dir = os.path.join(current_dir, 'rwth-boston-104/corpus/')"
   ]
  },
  {
   "cell_type": "code",
   "execution_count": 31,
   "metadata": {},
   "outputs": [
    {
     "name": "stdout",
     "output_type": "stream",
     "text": [
      "   Video                     Translations\n",
      "0      1        John writes his homework.\n",
      "1      2        John writes his homework.\n",
      "2      3  I visited John there yesterday.\n",
      "3      4  I visited John there yesterday.\n",
      "4      5                 Mary loves John.\n"
     ]
    }
   ],
   "source": [
    "# obtain the names of the different videos and the corresponding translations\n",
    "# then sort them according to video number (use this later for dividing into train/dev/test)\n",
    "# and save the names/translations to a csv file\n",
    "os.chdir(labels_dir)\n",
    "\n",
    "train = pd.read_csv('train.sentences.pronunciations.multi.translations.csv', sep = ';')\n",
    "test = pd.read_csv('test.sentences.multi.translations.csv', sep = ';')\n",
    "\n",
    "names = train['video'].append(test['video'], ignore_index = True)\n",
    "labels = train['translation'].append(test['translation'], ignore_index = True)\n",
    "\n",
    "names = [int(i.split('_')[0]) for i in names]\n",
    "\n",
    "zipped_list = zip(names, labels)\n",
    "sorted_zip = sorted(zipped_list, key = lambda x: x[0])\n",
    "\n",
    "names, labels = [list(x) for x in zip(*sorted_zip)]\n",
    "\n",
    "df = pd.DataFrame(sorted_zip, columns = ['Video', 'Translations'])\n",
    "print(df.head())\n",
    "\n",
    "os.chdir('..')\n",
    "os.chdir('..') # need to save the csv file in the Data folder\n",
    "path = os.path.join(os.getcwd(), 'labels.csv')\n",
    "\n",
    "df.to_csv(path, index = False)"
   ]
  },
  {
   "cell_type": "code",
   "execution_count": 20,
   "metadata": {},
   "outputs": [
    {
     "name": "stdout",
     "output_type": "stream",
     "text": [
      "[1, 4, 21]\n"
     ]
    }
   ],
   "source": [
    "x = ['001_', '004_', '021_']\n",
    "y = [int(i.split('_')[0]) for i in x]\n",
    "print(y)"
   ]
  },
  {
   "cell_type": "code",
   "execution_count": 4,
   "metadata": {},
   "outputs": [],
   "source": [
    "# extract frames from a given video\n",
    "def FrameCapture(name, path, video_dir): \n",
    "    '''\n",
    "    name: the name of the video being processed\n",
    "    path: absolute path of the video being processed\n",
    "    video_dir: directory of the video\n",
    "    '''\n",
    "    vid = cv2.VideoCapture(path) # get the video\n",
    "    \n",
    "    current_dir = os.path.join(video_dir, name) # get the path to the directory to store the frames\n",
    "    \n",
    "    try:\n",
    "        # if the folder for containing the frames doesn't exist..\n",
    "        # create it and change the directory to it\n",
    "        if not os.path.exists(current_dir):\n",
    "            os.mkdir(current_dir)\n",
    "            os.chdir(current_dir)\n",
    "    \n",
    "            current_frame = 1\n",
    "            success = True\n",
    "\n",
    "            while(success):\n",
    "                # read in the video\n",
    "                success, frame = vid.read()\n",
    "\n",
    "                # if the reading was successful\n",
    "                # then save the frame to file\n",
    "                # if the video was named 001_0.mpg, \n",
    "                # then the frame image is saved as 001_001.jpg \n",
    "                # where 1 is the first frame, etc.\n",
    "                if success:\n",
    "                    file_name = name + '_' + str(current_frame).zfill(3) + '.jpg'\n",
    "                    cv2.imwrite(file_name, frame)\n",
    "\n",
    "                else:\n",
    "                    break\n",
    "\n",
    "                current_frame += 1\n",
    "    \n",
    "    except:\n",
    "        print('Error - cannot create new directory')\n",
    "    \n",
    "    vid.release()\n",
    "    cv2.destroyAllWindows()"
   ]
  },
  {
   "cell_type": "code",
   "execution_count": 5,
   "metadata": {},
   "outputs": [],
   "source": [
    "for i in range(1, 202):\n",
    "    num_str = str(i)\n",
    "    filled_num = num_str.zfill(3)\n",
    "    \n",
    "    names.append(filled_num)\n",
    "\n",
    "    path = os.path.join(videos_dir, filled_num + '_0.mpg')\n",
    "\n",
    "    # extract frames for each video and store the frames in the corresponding directory\n",
    "    FrameCapture(filled_num, path, videos_dir) "
   ]
  },
  {
   "cell_type": "code",
   "execution_count": 99,
   "metadata": {},
   "outputs": [
    {
     "name": "stdout",
     "output_type": "stream",
     "text": [
      "/Users/sunnyshah/Desktop/Spring 2020/CS 230/Project/Data/rwth-boston-104/videoBank/camera0/135\n"
     ]
    }
   ],
   "source": [
    "# trial of seeing what numbers to use for the cropping\n",
    "os.chdir(os.path.join(videos_dir, '135'))\n",
    "print(os.getcwd())\n",
    "\n",
    "img = cv2.imread('135_054.jpg')\n",
    "img_cropped = img[9:240, 3:330]\n",
    "\n",
    "plt.imshow(img_cropped)"
   ]
  },
  {
   "cell_type": "code",
   "execution_count": 114,
   "metadata": {},
   "outputs": [],
   "source": [
    "os.chdir(videos_dir)\n",
    "\n",
    "path_list = []\n",
    "\n",
    "for folders, subfolders, _ in os.walk(os.getcwd()):\n",
    "    for s in subfolders:\n",
    "        path_list.append(os.path.join(folders, s))\n",
    "\n",
    "for path in path_list:\n",
    "    os.chdir(path)\n",
    "    \n",
    "    for _, _, files in os.walk(os.getcwd()):\n",
    "        for f in files:\n",
    "            if f.endswith('.jpg'):\n",
    "                img = cv2.imread(f)\n",
    "                img_cropped = img[9:240, 3:330]\n",
    "\n",
    "                name = f.split('.')[0] + '_cropped.jpg'\n",
    "\n",
    "                cv2.imwrite(name, img_cropped)\n",
    "                cv2.destroyAllWindows()"
   ]
  },
  {
   "cell_type": "code",
   "execution_count": 124,
   "metadata": {},
   "outputs": [],
   "source": [
    "# removes all the uncropped images from the folder 'Processed Data'\n",
    "os.chdir(os.path.join(videos_dir, 'Processed Data'))\n",
    "\n",
    "path_list = []\n",
    "\n",
    "for folders, subfolders, _ in os.walk(os.getcwd()):\n",
    "    for s in subfolders:\n",
    "        path_list.append(os.path.join(folders, s))\n",
    "\n",
    "for path in path_list:\n",
    "    os.chdir(path)\n",
    "    \n",
    "    for _, _, files in os.walk(os.getcwd()):\n",
    "        for f in files:\n",
    "            if (not f.endswith('_cropped.jpg')) and (f.endswith('.jpg')):\n",
    "                os.remove(f)"
   ]
  },
  {
   "cell_type": "code",
   "execution_count": 132,
   "metadata": {},
   "outputs": [],
   "source": [
    "# renames all the files '*_cropped.jpg' as '*.jpg'\n",
    "os.chdir(os.path.join(videos_dir, 'Processed Data'))\n",
    "\n",
    "path_list = []\n",
    "\n",
    "for folders, subfolders, _ in os.walk(os.getcwd()):\n",
    "    for s in subfolders:\n",
    "        path_list.append(os.path.join(folders, s))\n",
    "\n",
    "for path in path_list:\n",
    "    os.chdir(path)\n",
    "    \n",
    "    for _, _, files in os.walk(os.getcwd()):\n",
    "        for f in files:\n",
    "            if f.endswith('.jpg'):\n",
    "                name = f.split('_')\n",
    "                new_name = name[0] + '_' + name[1] + '.jpg'\n",
    "                \n",
    "                source = os.path.join(os.getcwd(), f)\n",
    "                destination = os.path.join(os.getcwd(), new_name)\n",
    "                os.rename(source, destination)"
   ]
  }
 ],
 "metadata": {
  "kernelspec": {
   "display_name": "Python 3",
   "language": "python",
   "name": "python3"
  },
  "language_info": {
   "codemirror_mode": {
    "name": "ipython",
    "version": 3
   },
   "file_extension": ".py",
   "mimetype": "text/x-python",
   "name": "python",
   "nbconvert_exporter": "python",
   "pygments_lexer": "ipython3",
   "version": "3.7.6"
  }
 },
 "nbformat": 4,
 "nbformat_minor": 2
}
